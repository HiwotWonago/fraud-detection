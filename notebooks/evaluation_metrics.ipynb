{
 "cells": [
  {
   "cell_type": "code",
   "execution_count": 1,
   "id": "70e40131",
   "metadata": {},
   "outputs": [],
   "source": [
    "import pandas as pd\n",
    "import numpy as np\n",
    "import ipaddress\n",
    "from sklearn.preprocessing import StandardScaler\n",
    "from sklearn.model_selection import train_test_split\n",
    "from imblearn.over_sampling import SMOTE\n",
    "import seaborn as sns\n",
    "import matplotlib.pyplot as plt"
   ]
  },
  {
   "cell_type": "code",
   "execution_count": 2,
   "id": "cef6bada",
   "metadata": {},
   "outputs": [],
   "source": [
    "fraud_df = pd.read_csv(r\"C://Users//Hiwi//Documents//week8&9//Fraud_Data.csv\")\n",
    "ip_df = pd.read_csv(r\"C://Users//Hiwi//Documents//week8&9//IpAddress_to_Country.csv\")\n",
    "credit_df = pd.read_csv(r\"C://Users//Hiwi//Documents//week8&9//creditcard.csv\")"
   ]
  },
  {
   "cell_type": "code",
   "execution_count": 3,
   "id": "a0b389f5",
   "metadata": {},
   "outputs": [],
   "source": [
    "fraud_df['signup_time'] = pd.to_datetime(fraud_df['signup_time'])\n",
    "fraud_df['purchase_time'] = pd.to_datetime(fraud_df['purchase_time'])"
   ]
  },
  {
   "cell_type": "code",
   "execution_count": 4,
   "id": "143d6f62",
   "metadata": {},
   "outputs": [],
   "source": [
    "fraud_df.fillna({'browser': fraud_df['browser'].mode()[0]}, inplace=True)\n",
    "fraud_df.dropna(inplace=True)"
   ]
  },
  {
   "cell_type": "code",
   "execution_count": 5,
   "id": "8d71a48a",
   "metadata": {},
   "outputs": [],
   "source": [
    "from sklearn.model_selection import train_test_split\n",
    "from sklearn.linear_model import LogisticRegression\n",
    "from xgboost import XGBClassifier\n",
    "from sklearn.pipeline import Pipeline\n",
    "from sklearn.compose import ColumnTransformer\n",
    "from sklearn.preprocessing import OneHotEncoder, StandardScaler\n",
    "from sklearn.metrics import f1_score, precision_recall_curve, confusion_matrix, auc\n",
    "# 1. Define features and target\n",
    "X = fraud_df.drop(columns=['class', 'signup_time', 'purchase_time'])\n",
    "y = fraud_df['class']"
   ]
  },
  {
   "cell_type": "code",
   "execution_count": 6,
   "id": "28a7d181",
   "metadata": {},
   "outputs": [],
   "source": [
    "categorical_cols = X.select_dtypes(include='object').columns.tolist()\n",
    "numerical_cols = X.select_dtypes(include=['int64', 'float64']).columns.tolist()"
   ]
  },
  {
   "cell_type": "code",
   "execution_count": 7,
   "id": "7cffbd0d",
   "metadata": {},
   "outputs": [],
   "source": [
    "preprocessor = ColumnTransformer(\n",
    "    transformers=[\n",
    "        ('num', StandardScaler(), numerical_cols),\n",
    "        ('cat', OneHotEncoder(handle_unknown='ignore'), categorical_cols)\n",
    "    ]\n",
    ")"
   ]
  },
  {
   "cell_type": "code",
   "execution_count": 8,
   "id": "c2ccff18",
   "metadata": {},
   "outputs": [],
   "source": [
    "X_train, X_test, y_train, y_test = train_test_split(\n",
    "    X, y, test_size=0.2, random_state=42, stratify=y\n",
    ")"
   ]
  },
  {
   "cell_type": "code",
   "execution_count": 9,
   "id": "136b7265",
   "metadata": {},
   "outputs": [],
   "source": [
    "from sklearn.pipeline import Pipeline\n",
    "from sklearn.compose import ColumnTransformer\n",
    "from sklearn.preprocessing import StandardScaler, OneHotEncoder\n",
    "\n",
    "# Preprocessing\n",
    "numerical_cols = X_train.select_dtypes(include=['int64', 'float64']).columns.tolist()\n",
    "categorical_cols = X_train.select_dtypes(include=['object']).columns.tolist()\n",
    "\n",
    "numeric_transformer = StandardScaler()\n",
    "categorical_transformer = OneHotEncoder(handle_unknown='ignore')\n",
    "\n",
    "preprocessor = ColumnTransformer(\n",
    "    transformers=[\n",
    "        ('num', numeric_transformer, numerical_cols),\n",
    "        ('cat', categorical_transformer, categorical_cols)\n",
    "    ]\n",
    ")"
   ]
  },
  {
   "cell_type": "code",
   "execution_count": 10,
   "id": "8b72580e",
   "metadata": {},
   "outputs": [
    {
     "name": "stdout",
     "output_type": "stream",
     "text": [
      " Model training completed.\n",
      "\n",
      " Predicted class labels (first 10):\n",
      " [0 0 0 0 0 0 0 0 0 0]\n",
      "\n",
      " Predicted class probabilities for class 1 (first 10):\n",
      " [0.06388852 0.06149296 0.13906747 0.0616869  0.07959197 0.07653783\n",
      " 0.06176372 0.06620461 0.05719904 0.0591908 ]\n"
     ]
    }
   ],
   "source": [
    "# 5. Logistic Regression Pipeline\n",
    "from sklearn.pipeline import Pipeline\n",
    "from sklearn.linear_model import LogisticRegression\n",
    "logreg_pipeline = Pipeline([\n",
    "    ('preprocessor', preprocessor),\n",
    "    ('classifier', LogisticRegression(max_iter=1000))\n",
    "])\n",
    "\n",
    "logreg_pipeline.fit(X_train, y_train)\n",
    "print(\" Model training completed.\")\n",
    "y_pred_logreg = logreg_pipeline.predict(X_test)\n",
    "print(\"\\n Predicted class labels (first 10):\\n\", y_pred_logreg[:10])\n",
    "\n",
    "# Predict class probabilities\n",
    "y_proba_logreg = logreg_pipeline.predict_proba(X_test)[:, 1]\n",
    "print(\"\\n Predicted class probabilities for class 1 (first 10):\\n\", y_proba_logreg[:10])\n"
   ]
  },
  {
   "cell_type": "code",
   "execution_count": 11,
   "id": "16e7816c",
   "metadata": {},
   "outputs": [
    {
     "name": "stderr",
     "output_type": "stream",
     "text": [
      "C:\\Users\\Hiwi\\anaconda3\\Lib\\site-packages\\xgboost\\training.py:183: UserWarning: [12:46:55] WARNING: C:\\actions-runner\\_work\\xgboost\\xgboost\\src\\learner.cc:738: \n",
      "Parameters: { \"use_label_encoder\" } are not used.\n",
      "\n",
      "  bst.update(dtrain, iteration=i, fobj=obj)\n"
     ]
    },
    {
     "name": "stdout",
     "output_type": "stream",
     "text": [
      " XGBoost model training completed.\n",
      "\n",
      " XGBoost predicted class labels (first 10):\n",
      " [0 0 0 0 0 0 0 0 0 0]\n",
      "\n",
      " XGBoost predicted class probabilities for class 1 (first 10):\n",
      " [0.0807492  0.09415637 0.08633239 0.07603142 0.10009685 0.11612086\n",
      " 0.06817006 0.07158124 0.07627584 0.0730201 ]\n"
     ]
    }
   ],
   "source": [
    "from xgboost import XGBClassifier\n",
    "from sklearn.pipeline import Pipeline\n",
    "# 6. XGBoost Pipeline\n",
    "xgb_pipeline = Pipeline([\n",
    "    ('preprocessor', preprocessor),\n",
    "    ('classifier', XGBClassifier(use_label_encoder=False, eval_metric='logloss'))\n",
    "])\n",
    "xgb_pipeline.fit(X_train, y_train)\n",
    "print(\" XGBoost model training completed.\")\n",
    "y_pred_xgb = xgb_pipeline.predict(X_test)\n",
    "print(\"\\n XGBoost predicted class labels (first 10):\\n\", y_pred_xgb[:10])\n",
    "y_proba_xgb = xgb_pipeline.predict_proba(X_test)[:, 1]\n",
    "print(\"\\n XGBoost predicted class probabilities for class 1 (first 10):\\n\", y_proba_xgb[:10])\n"
   ]
  },
  {
   "cell_type": "code",
   "execution_count": 12,
   "id": "82943566",
   "metadata": {},
   "outputs": [],
   "source": [
    "# 7. Evaluation Function\n",
    "def evaluate_model(y_test, y_pred, y_proba):\n",
    "    f1 = f1_score(y_test, y_pred)\n",
    "    precision, recall, _ = precision_recall_curve(y_test, y_proba)\n",
    "    auc_pr = auc(recall, precision)\n",
    "    cm = confusion_matrix(y_test, y_pred)\n",
    "\n",
    "    print(\"F1 Score:\", f1)\n",
    "    print(\"AUC-PR:\", auc_pr)\n",
    "    print(\"Confusion Matrix:\\n\", cm)"
   ]
  },
  {
   "cell_type": "code",
   "execution_count": 13,
   "id": "487cde2d",
   "metadata": {},
   "outputs": [
    {
     "name": "stdout",
     "output_type": "stream",
     "text": [
      "Logistic Regression Performance:\n",
      "F1 Score: 0.5841678588459704\n",
      "AUC-PR: 0.565922873747812\n",
      "Confusion Matrix:\n",
      " [[27254   139]\n",
      " [ 1605  1225]]\n",
      "\n",
      "XGBoost Performance:\n",
      "F1 Score: 0.19291587602783047\n",
      "AUC-PR: 0.23062428060445073\n",
      "Confusion Matrix:\n",
      " [[27366    27]\n",
      " [ 2525   305]]\n"
     ]
    }
   ],
   "source": [
    "# 8. Print Results\n",
    "print(\"Logistic Regression Performance:\")\n",
    "evaluate_model(y_test, y_pred_logreg, y_proba_logreg)\n",
    "\n",
    "print(\"\\nXGBoost Performance:\")\n",
    "evaluate_model(y_test, y_pred_xgb, y_proba_xgb)"
   ]
  }
 ],
 "metadata": {
  "kernelspec": {
   "display_name": "Python 3 (ipykernel)",
   "language": "python",
   "name": "python3"
  },
  "language_info": {
   "codemirror_mode": {
    "name": "ipython",
    "version": 3
   },
   "file_extension": ".py",
   "mimetype": "text/x-python",
   "name": "python",
   "nbconvert_exporter": "python",
   "pygments_lexer": "ipython3",
   "version": "3.11.5"
  }
 },
 "nbformat": 4,
 "nbformat_minor": 5
}
