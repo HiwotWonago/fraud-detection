{
 "cells": [
  {
   "cell_type": "code",
   "execution_count": 2,
   "id": "e3b310ac",
   "metadata": {},
   "outputs": [],
   "source": [
    "import pandas as pd\n",
    "import numpy as np\n",
    "import ipaddress\n",
    "from sklearn.preprocessing import StandardScaler\n",
    "from sklearn.model_selection import train_test_split\n",
    "import seaborn as sns\n",
    "import matplotlib.pyplot as plt"
   ]
  },
  {
   "cell_type": "code",
   "execution_count": 3,
   "id": "05a1f4a6",
   "metadata": {},
   "outputs": [],
   "source": [
    "fraud_df = pd.read_csv(r\"C://Users//Hiwi//Documents//week8&9//Fraud_Data.csv\")\n",
    "ip_df = pd.read_csv(r\"C://Users//Hiwi//Documents//week8&9//IpAddress_to_Country.csv\")\n",
    "credit_df = pd.read_csv(r\"C://Users//Hiwi//Documents//week8&9//creditcard.csv\")"
   ]
  },
  {
   "cell_type": "code",
   "execution_count": 4,
   "id": "7bc2a307",
   "metadata": {},
   "outputs": [],
   "source": [
    "fraud_df.fillna({'browser': fraud_df['browser'].mode()[0]}, inplace=True)\n",
    "fraud_df.dropna(inplace=True)"
   ]
  },
  {
   "cell_type": "code",
   "execution_count": 5,
   "id": "0c6c044b",
   "metadata": {},
   "outputs": [],
   "source": [
    "from sklearn.model_selection import train_test_split\n",
    "from sklearn.linear_model import LogisticRegression\n",
    "from xgboost import XGBClassifier\n",
    "from sklearn.pipeline import Pipeline\n",
    "from sklearn.compose import ColumnTransformer\n",
    "from sklearn.preprocessing import OneHotEncoder, StandardScaler\n",
    "from sklearn.metrics import f1_score, precision_recall_curve, confusion_matrix, auc\n",
    "# 1. Define features and target\n",
    "X = fraud_df.drop(columns=['class', 'signup_time', 'purchase_time'])\n",
    "y = fraud_df['class']"
   ]
  },
  {
   "cell_type": "code",
   "execution_count": 6,
   "id": "fe16fd5e",
   "metadata": {},
   "outputs": [],
   "source": [
    "categorical_cols = X.select_dtypes(include='object').columns.tolist()\n",
    "numerical_cols = X.select_dtypes(include=['int64', 'float64']).columns.tolist()"
   ]
  },
  {
   "cell_type": "code",
   "execution_count": 7,
   "id": "fad1d5d2",
   "metadata": {},
   "outputs": [],
   "source": [
    "preprocessor = ColumnTransformer(\n",
    "    transformers=[\n",
    "        ('num', StandardScaler(), numerical_cols),\n",
    "        ('cat', OneHotEncoder(handle_unknown='ignore'), categorical_cols)\n",
    "    ]\n",
    ")"
   ]
  },
  {
   "cell_type": "code",
   "execution_count": 8,
   "id": "22def76f",
   "metadata": {},
   "outputs": [],
   "source": [
    "X_train, X_test, y_train, y_test = train_test_split(\n",
    "    X, y, test_size=0.2, random_state=42, stratify=y\n",
    ")"
   ]
  },
  {
   "cell_type": "code",
   "execution_count": 18,
   "id": "dcc90167",
   "metadata": {},
   "outputs": [],
   "source": [
    "from sklearn.pipeline import Pipeline\n",
    "from sklearn.compose import ColumnTransformer\n",
    "from sklearn.preprocessing import StandardScaler, OneHotEncoder\n",
    "\n",
    "# Preprocessing\n",
    "numerical_cols = X_train.select_dtypes(include=['int64', 'float64']).columns.tolist()\n",
    "categorical_cols = X_train.select_dtypes(include=['object']).columns.tolist()\n",
    "\n",
    "numeric_transformer = StandardScaler()\n",
    "categorical_transformer = OneHotEncoder(handle_unknown='ignore')\n",
    "\n",
    "preprocessor = ColumnTransformer(\n",
    "    transformers=[\n",
    "        ('num', numeric_transformer, numerical_cols),\n",
    "        ('cat', categorical_transformer, categorical_cols)\n",
    "    ]\n",
    ")"
   ]
  },
  {
   "cell_type": "code",
   "execution_count": 19,
   "id": "a952b010",
   "metadata": {},
   "outputs": [
    {
     "name": "stdout",
     "output_type": "stream",
     "text": [
      " Model training completed.\n",
      "\n",
      " Predicted class labels (first 10):\n",
      " [0 0 0 0 0 0 0 0 0 0]\n",
      "\n",
      " Predicted class probabilities for class 1 (first 10):\n",
      " [0.06388852 0.06149296 0.13906747 0.0616869  0.07959197 0.07653783\n",
      " 0.06176372 0.06620461 0.05719904 0.0591908 ]\n"
     ]
    }
   ],
   "source": [
    "# 5. Logistic Regression Pipeline\n",
    "from sklearn.pipeline import Pipeline\n",
    "from sklearn.linear_model import LogisticRegression\n",
    "logreg_pipeline = Pipeline([\n",
    "    ('preprocessor', preprocessor),\n",
    "    ('classifier', LogisticRegression(max_iter=1000))\n",
    "])\n",
    "\n",
    "logreg_pipeline.fit(X_train, y_train)\n",
    "print(\" Model training completed.\")\n",
    "y_pred_logreg = logreg_pipeline.predict(X_test)\n",
    "print(\"\\n Predicted class labels (first 10):\\n\", y_pred_logreg[:10])\n",
    "\n",
    "# Predict class probabilities\n",
    "y_proba_logreg = logreg_pipeline.predict_proba(X_test)[:, 1]\n",
    "print(\"\\n Predicted class probabilities for class 1 (first 10):\\n\", y_proba_logreg[:10])\n"
   ]
  },
  {
   "cell_type": "code",
   "execution_count": 16,
   "id": "d1455227",
   "metadata": {},
   "outputs": [
    {
     "name": "stderr",
     "output_type": "stream",
     "text": [
      "C:\\Users\\Hiwi\\anaconda3\\Lib\\site-packages\\xgboost\\training.py:183: UserWarning: [12:39:31] WARNING: C:\\actions-runner\\_work\\xgboost\\xgboost\\src\\learner.cc:738: \n",
      "Parameters: { \"use_label_encoder\" } are not used.\n",
      "\n",
      "  bst.update(dtrain, iteration=i, fobj=obj)\n"
     ]
    },
    {
     "name": "stdout",
     "output_type": "stream",
     "text": [
      " XGBoost model training completed.\n",
      "\n",
      " XGBoost predicted class labels (first 10):\n",
      " [0 0 0 0 0 0 0 0 0 0]\n",
      "\n",
      " XGBoost predicted class probabilities for class 1 (first 10):\n",
      " [0.0807492  0.09415637 0.08633239 0.07603142 0.10009685 0.11612086\n",
      " 0.06817006 0.07158124 0.07627584 0.0730201 ]\n"
     ]
    }
   ],
   "source": [
    "from xgboost import XGBClassifier\n",
    "from sklearn.pipeline import Pipeline\n",
    "# 6. XGBoost Pipeline\n",
    "xgb_pipeline = Pipeline([\n",
    "    ('preprocessor', preprocessor),\n",
    "    ('classifier', XGBClassifier(use_label_encoder=False, eval_metric='logloss'))\n",
    "])\n",
    "xgb_pipeline.fit(X_train, y_train)\n",
    "print(\" XGBoost model training completed.\")\n",
    "y_pred_xgb = xgb_pipeline.predict(X_test)\n",
    "print(\"\\n XGBoost predicted class labels (first 10):\\n\", y_pred_xgb[:10])\n",
    "y_proba_xgb = xgb_pipeline.predict_proba(X_test)[:, 1]\n",
    "print(\"\\n XGBoost predicted class probabilities for class 1 (first 10):\\n\", y_proba_xgb[:10])\n"
   ]
  },
  {
   "cell_type": "code",
   "execution_count": null,
   "id": "1c524885",
   "metadata": {},
   "outputs": [],
   "source": []
  }
 ],
 "metadata": {
  "kernelspec": {
   "display_name": "Python 3 (ipykernel)",
   "language": "python",
   "name": "python3"
  },
  "language_info": {
   "codemirror_mode": {
    "name": "ipython",
    "version": 3
   },
   "file_extension": ".py",
   "mimetype": "text/x-python",
   "name": "python",
   "nbconvert_exporter": "python",
   "pygments_lexer": "ipython3",
   "version": "3.11.5"
  }
 },
 "nbformat": 4,
 "nbformat_minor": 5
}
