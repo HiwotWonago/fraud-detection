{
 "cells": [
  {
   "cell_type": "code",
   "execution_count": 1,
   "id": "e8079899",
   "metadata": {},
   "outputs": [],
   "source": [
    "import pandas as pd\n",
    "import numpy as np\n",
    "import ipaddress\n",
    "from sklearn.preprocessing import StandardScaler\n",
    "from sklearn.model_selection import train_test_split\n",
    "import seaborn as sns\n",
    "import matplotlib.pyplot as plt"
   ]
  },
  {
   "cell_type": "code",
   "execution_count": 2,
   "id": "95195e89",
   "metadata": {},
   "outputs": [],
   "source": [
    "fraud_df = pd.read_csv(r\"C://Users//Hiwi//Documents//week8&9//Fraud_Data.csv\")\n",
    "ip_df = pd.read_csv(r\"C://Users//Hiwi//Documents//week8&9//IpAddress_to_Country.csv\")\n",
    "credit_df = pd.read_csv(r\"C://Users//Hiwi//Documents//week8&9//creditcard.csv\")"
   ]
  },
  {
   "cell_type": "code",
   "execution_count": 3,
   "id": "c35c9485",
   "metadata": {},
   "outputs": [],
   "source": [
    "fraud_df.fillna({'browser': fraud_df['browser'].mode()[0]}, inplace=True)\n",
    "fraud_df.dropna(inplace=True)"
   ]
  },
  {
   "cell_type": "code",
   "execution_count": 4,
   "id": "f89a8d7c",
   "metadata": {},
   "outputs": [],
   "source": [
    "from sklearn.model_selection import train_test_split\n",
    "from sklearn.linear_model import LogisticRegression\n",
    "from xgboost import XGBClassifier\n",
    "from sklearn.pipeline import Pipeline\n",
    "from sklearn.compose import ColumnTransformer\n",
    "from sklearn.preprocessing import OneHotEncoder, StandardScaler\n",
    "from sklearn.metrics import f1_score, precision_recall_curve, confusion_matrix, auc\n",
    "# 1. Define features and target\n",
    "X = fraud_df.drop(columns=['class', 'signup_time', 'purchase_time'])\n",
    "y = fraud_df['class']"
   ]
  },
  {
   "cell_type": "code",
   "execution_count": 5,
   "id": "c8e383a5",
   "metadata": {},
   "outputs": [],
   "source": [
    "categorical_cols = X.select_dtypes(include='object').columns.tolist()\n",
    "numerical_cols = X.select_dtypes(include=['int64', 'float64']).columns.tolist()"
   ]
  },
  {
   "cell_type": "code",
   "execution_count": 6,
   "id": "2bd432fc",
   "metadata": {},
   "outputs": [],
   "source": [
    "preprocessor = ColumnTransformer(\n",
    "    transformers=[\n",
    "        ('num', StandardScaler(), numerical_cols),\n",
    "        ('cat', OneHotEncoder(handle_unknown='ignore'), categorical_cols)\n",
    "    ]\n",
    ")"
   ]
  },
  {
   "cell_type": "code",
   "execution_count": 7,
   "id": "fdb8f2ec",
   "metadata": {},
   "outputs": [
    {
     "name": "stdout",
     "output_type": "stream",
     "text": [
      "X_train shape: (120889, 8)\n",
      "X_test shape: (30223, 8)\n",
      "y_train shape: (120889,)\n",
      "y_test shape: (30223,)\n",
      "\n",
      "X_train sample:\n",
      "         user_id  purchase_value      device_id  source  browser sex  age  \\\n",
      "50481    306367              40  XVRUVPTHWQASG     Ads   Chrome   F   36   \n",
      "95673    349918              25  YEIHKJKVXOTOG  Direct       IE   M   31   \n",
      "139063   252150              47  TUIGQGWCACDLN     Ads       IE   M   41   \n",
      "28313    127539              86  DSHXPRGHOCLEK  Direct  FireFox   M   42   \n",
      "123477   257348              40  NYFGHBQGURDIN     SEO   Safari   M   42   \n",
      "\n",
      "          ip_address  \n",
      "50481   7.195639e+08  \n",
      "95673   3.796264e+09  \n",
      "139063  4.106204e+09  \n",
      "28313   6.139430e+08  \n",
      "123477  1.763565e+08  \n",
      "\n",
      "y_train sample:\n",
      " 50481     0\n",
      "95673     0\n",
      "139063    0\n",
      "28313     0\n",
      "123477    0\n",
      "Name: class, dtype: int64\n"
     ]
    }
   ],
   "source": [
    "X_train, X_test, y_train, y_test = train_test_split(\n",
    "    X, y, test_size=0.2, random_state=42, stratify=y\n",
    ")\n",
    "print(\"X_train shape:\", X_train.shape)\n",
    "print(\"X_test shape:\", X_test.shape)\n",
    "print(\"y_train shape:\", y_train.shape)\n",
    "print(\"y_test shape:\", y_test.shape)\n",
    "print(\"\\nX_train sample:\\n\", X_train.head())\n",
    "print(\"\\ny_train sample:\\n\", y_train.head())"
   ]
  },
  {
   "cell_type": "code",
   "execution_count": null,
   "id": "748f65e4",
   "metadata": {},
   "outputs": [],
   "source": []
  }
 ],
 "metadata": {
  "kernelspec": {
   "display_name": "Python 3 (ipykernel)",
   "language": "python",
   "name": "python3"
  },
  "language_info": {
   "codemirror_mode": {
    "name": "ipython",
    "version": 3
   },
   "file_extension": ".py",
   "mimetype": "text/x-python",
   "name": "python",
   "nbconvert_exporter": "python",
   "pygments_lexer": "ipython3",
   "version": "3.11.5"
  }
 },
 "nbformat": 4,
 "nbformat_minor": 5
}
